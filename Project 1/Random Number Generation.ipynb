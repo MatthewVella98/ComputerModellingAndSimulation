{
 "cells": [
  {
   "cell_type": "markdown",
   "metadata": {},
   "source": [
    "# Assignment - Random Number Generation\n",
    "### Year 2018-2019  - Semester II\n",
    "### CCE3502\n",
    "#### Developed by - Adrian Muscat, 2019\n",
    "#### Lab Assistant - Brandon Birmingham\n",
    "---\n",
    "\n",
    "# Matthew Vella, 428698M, BSc CS, Yr II\n",
    "---\n",
    "\n",
    "\n",
    "\n"
   ]
  },
  {
   "cell_type": "markdown",
   "metadata": {},
   "source": [
    "## First few cells are non-graded exercises and practice in lab. These are followed by 5 graded questions"
   ]
  },
  {
   "cell_type": "code",
   "execution_count": 35,
   "metadata": {},
   "outputs": [],
   "source": [
    "# import useful libraries\n",
    "import numpy as np\n",
    "import matplotlib.pyplot as plt\n",
    "import scipy.stats as stats\n",
    "import time as time\n",
    "#this line plots graphs in line\n",
    "%matplotlib inline"
   ]
  },
  {
   "cell_type": "code",
   "execution_count": 15,
   "metadata": {},
   "outputs": [
    {
     "name": "stdout",
     "output_type": "stream",
     "text": [
      "[0. 1. 2. 3. 4.]\n",
      "[5. 6. 7. 8. 9.]\n",
      "[ 0.  6. 14. 24. 36.]\n",
      "[ 4.  7. 10. 13. 16. 19.]\n"
     ]
    }
   ],
   "source": [
    "### examples in numpy and vector notation\n",
    "a=np.array([0,1,2,3,4], dtype=float)\n",
    "b=np.array([5,6,7,8,9], dtype=float)\n",
    "print(a)\n",
    "print(b)\n",
    "print(a*b)\n",
    "c=np.arange(4,20,3.)\n",
    "print(c)"
   ]
  },
  {
   "cell_type": "code",
   "execution_count": 16,
   "metadata": {},
   "outputs": [
    {
     "data": {
      "text/plain": [
       "array([ 6.,  9., 12., 15., 18.])"
      ]
     },
     "execution_count": 16,
     "metadata": {},
     "output_type": "execute_result"
    }
   ],
   "source": [
    "#slicing and broadcasting examples\n",
    "c2 = c[:-1]\n",
    "c3 = np.array([2])\n",
    "c2.shape, c3.shape\n",
    "\n",
    "c2+c3"
   ]
  },
  {
   "cell_type": "code",
   "execution_count": 17,
   "metadata": {},
   "outputs": [
    {
     "data": {
      "text/plain": [
       "8"
      ]
     },
     "execution_count": 17,
     "metadata": {},
     "output_type": "execute_result"
    }
   ],
   "source": [
    "### generating RNs using numpy functions\n",
    "max(np.random.randint(1,9, 10000000))"
   ]
  },
  {
   "cell_type": "markdown",
   "metadata": {},
   "source": [
    "## histogram and plots"
   ]
  },
  {
   "cell_type": "code",
   "execution_count": 19,
   "metadata": {},
   "outputs": [
    {
     "name": "stdout",
     "output_type": "stream",
     "text": [
      "[425 447 458 471 473 465 468 443 441 471 438]\n",
      "[1.41061033e-05 9.09205697e-02 1.81827033e-01 2.72733497e-01\n",
      " 3.63639961e-01 4.54546424e-01 5.45452888e-01 6.36359352e-01\n",
      " 7.27265815e-01 8.18172279e-01 9.09078742e-01 9.99985206e-01]\n"
     ]
    },
    {
     "data": {
      "image/png": "[encoded data removed]",
      "text/plain": [
       "<Figure size 432x288 with 1 Axes>"
      ]
     },
     "metadata": {
      "needs_background": "light"
     },
     "output_type": "display_data"
    }
   ],
   "source": [
    "### histogram and plots \n",
    "r = np.random.random(size=5000)\n",
    "h = np.histogram(r,bins=11)\n",
    "print(h[0])\n",
    "print(h[1])\n",
    "print\n",
    "plt.bar(h[1][:-1], h[0], width = .05, align='edge')\n",
    "plt.show()"
   ]
  },
  {
   "cell_type": "code",
   "execution_count": 20,
   "metadata": {},
   "outputs": [
    {
     "name": "stderr",
     "output_type": "stream",
     "text": [
      "C:\\Users\\matth\\Anaconda3\\lib\\site-packages\\ipykernel_launcher.py:2: DeprecationWarning: time.clock has been deprecated in Python 3.3 and will be removed from Python 3.8: use time.perf_counter or time.process_time instead\n",
      "  \n"
     ]
    },
    {
     "name": "stdout",
     "output_type": "stream",
     "text": [
      "10.253124507999928\n"
     ]
    },
    {
     "name": "stderr",
     "output_type": "stream",
     "text": [
      "C:\\Users\\matth\\Anaconda3\\lib\\site-packages\\ipykernel_launcher.py:6: DeprecationWarning: time.clock has been deprecated in Python 3.3 and will be removed from Python 3.8: use time.perf_counter or time.process_time instead\n",
      "  \n"
     ]
    },
    {
     "data": {
      "text/plain": [
       "(None, 'sec')"
      ]
     },
     "execution_count": 20,
     "metadata": {},
     "output_type": "execute_result"
    }
   ],
   "source": [
    "#Timing code\n",
    "start = time.clock()\n",
    "for i in range(10000):\n",
    "    for j in range(10000):\n",
    "        c = 8.89*7.76\n",
    "end = time.clock()\n",
    "print (end-start), 'sec'\n"
   ]
  },
  {
   "cell_type": "markdown",
   "metadata": {
    "collapsed": true
   },
   "source": [
    "## comparison of variables - ANOVA"
   ]
  },
  {
   "cell_type": "code",
   "execution_count": 21,
   "metadata": {},
   "outputs": [
    {
     "ename": "SyntaxError",
     "evalue": "invalid syntax (<ipython-input-21-d0dc1ac42267>, line 11)",
     "output_type": "error",
     "traceback": [
      "\u001b[1;36m  File \u001b[1;32m\"<ipython-input-21-d0dc1ac42267>\"\u001b[1;36m, line \u001b[1;32m11\u001b[0m\n\u001b[1;33m    print A1.mean(), A1.var()\u001b[0m\n\u001b[1;37m           ^\u001b[0m\n\u001b[1;31mSyntaxError\u001b[0m\u001b[1;31m:\u001b[0m invalid syntax\n"
     ]
    }
   ],
   "source": [
    "### ANOVA comparison\n",
    "# A study on Perceived difficulty [from Heiman-92]\n",
    "# We told three samples of five subjects each that some\n",
    "# math problems were easy (A1), of medum difficulty (A2), or difficult (A3)\n",
    "# we measured the number of problems they correctly solved\n",
    "# we want to check for significant difference between these g# measurements(scores obtained) \n",
    "# are given below for the three samples\n",
    "A1 = np.array([9,12,4,8,7],dtype=float)\n",
    "A2 = np.array([4,6,8,2,10],dtype=float)\n",
    "A3 = np.array([1,3,4,5,2],dtype=float)\n",
    "print A1.mean(), A1.var()\n",
    "print A2.mean(), A2.var()\n",
    "print A3.mean(), A3.var()\n",
    "print stats.f_oneway(A1,A2)\n",
    "print stats.f_oneway(A1,A3)\n",
    "print stats.f_oneway(A2,A3)\n",
    "print stats.f_oneway(A1,A1)\n",
    "A = [A1,A2,A3]\n",
    "_ = plt.boxplot(A)"
   ]
  },
  {
   "cell_type": "code",
   "execution_count": null,
   "metadata": {},
   "outputs": [],
   "source": [
    "A = [A1,A2,A3]\n",
    "_ = plt.boxplot(A)"
   ]
  },
  {
   "cell_type": "code",
   "execution_count": null,
   "metadata": {},
   "outputs": [],
   "source": [
    "# extra- anova calculations\n",
    "#genenrate A1, A2, normally distributed numbers\n",
    "#plot box plots\n",
    "# compute anova F"
   ]
  },
  {
   "cell_type": "markdown",
   "metadata": {
    "collapsed": true
   },
   "source": [
    "## Chi square goodness of fit\n"
   ]
  },
  {
   "cell_type": "code",
   "execution_count": null,
   "metadata": {},
   "outputs": [],
   "source": [
    "# generating Table for chi-square\n",
    "print(\"Critical value\")\n",
    "\n",
    "for k in range(1,11):\n",
    "    crit = stats.chi2.ppf(q = 1.0-np.array([0.01, .05]), # Find the critical value for 99% and 95% confidence*\n",
    "                          df = k)   # Df = number of variable categories - 1\n",
    "\n",
    "    print(k, crit)\n",
    "\n"
   ]
  },
  {
   "cell_type": "code",
   "execution_count": null,
   "metadata": {},
   "outputs": [],
   "source": [
    "#f_observed=np.array([30,20,35,36,17,14,29,20,18,31],dtype=float)  # reject\n",
    "f_observed=np.array([30,25,25,30,17,14,29,20,18,31],dtype=float)  # assume similar\n",
    "\n",
    "N=len(f_observed)\n",
    "f_expected = np.full_like(f_observed,np.sum(f_observed)/N)\n",
    "print f_observed\n",
    "print f_expected\n",
    "#\n",
    "chi_2_obt = np.sum(((f_expected-f_observed)**2.0)/f_expected)\n",
    "print 'chi_2_obt=',chi_2_obt\n",
    "#\n",
    "chi_2=stats.chi2.ppf(q=1.0-.05,df=N-1)\n",
    "print 'chi_2 from table = ', chi_2\n",
    "#\n",
    "if chi_2_obt>chi_2:\n",
    "    print \"We reject the hypothesis that the two distributions are similar with a confidence of 95%\"\n",
    "else:\n",
    "    print \"We assume that the distributions are similar with a confidence of 95%\""
   ]
  },
  {
   "cell_type": "markdown",
   "metadata": {},
   "source": [
    "## RNG - analytical inversion method"
   ]
  },
  {
   "cell_type": "code",
   "execution_count": null,
   "metadata": {
    "collapsed": true
   },
   "outputs": [],
   "source": [
    "# analytical inversion method\n",
    "# generate exponentially distributed numbers using the analytical method developed in class\n",
    "# generate same using numpy.random exponential generator\n",
    "# test which one is faster to compute\n"
   ]
  },
  {
   "cell_type": "code",
   "execution_count": null,
   "metadata": {},
   "outputs": [],
   "source": [
    "# generating using analytical inversion technique.\n",
    "# use formula from class for exp distribution \n",
    "# use chi-square to compare to numpy's exp generator "
   ]
  },
  {
   "cell_type": "markdown",
   "metadata": {},
   "source": [
    "## RNG - accept-reject method"
   ]
  },
  {
   "cell_type": "code",
   "execution_count": null,
   "metadata": {
    "collapsed": true
   },
   "outputs": [],
   "source": [
    "# accept-reject method\n",
    "# code algorithm for accept-reject RNG"
   ]
  },
  {
   "cell_type": "markdown",
   "metadata": {},
   "source": [
    "# GRADED QUESTIONS BELOW: 5 questions, Total = 40, weight =10%"
   ]
  },
  {
   "cell_type": "markdown",
   "metadata": {},
   "source": [
    "## Load data as below [0 marks]"
   ]
  },
  {
   "cell_type": "code",
   "execution_count": 22,
   "metadata": {},
   "outputs": [],
   "source": [
    "in_file = open(\"rand_data.txt\",'rb')\n",
    "f = in_file.readlines()\n",
    "in_file.close()\n",
    "data = np.zeros(len(f),dtype=float)\n",
    "for i in range(data.shape[0]):\n",
    "    data[i]=float(f[i])"
   ]
  },
  {
   "cell_type": "markdown",
   "metadata": {},
   "source": [
    "## Compute a histogram for data = H_data [5 marks]\n",
    "### use bins of width = 0.5"
   ]
  },
  {
   "cell_type": "code",
   "execution_count": 23,
   "metadata": {},
   "outputs": [
    {
     "data": {
      "text/plain": [
       "<BarContainer object of 15 artists>"
      ]
     },
     "execution_count": 23,
     "metadata": {},
     "output_type": "execute_result"
    },
    {
     "data": {
      "image/png": "[encoded data removed]",
      "text/plain": [
       "<Figure size 432x288 with 1 Axes>"
      ]
     },
     "metadata": {
      "needs_background": "light"
     },
     "output_type": "display_data"
    }
   ],
   "source": [
    "bins = np.arange(0,8,.5)\n",
    "h = np.histogram(data, bins)\n",
    "plt.bar(h[1][:-1],h[0],width=.3,align='edge')"
   ]
  },
  {
   "cell_type": "markdown",
   "metadata": {},
   "source": [
    "## Manually, fit an exponential function to the histogram [5 marks]"
   ]
  },
  {
   "cell_type": "code",
   "execution_count": 24,
   "metadata": {},
   "outputs": [
    {
     "data": {
      "text/plain": [
       "<BarContainer object of 21 artists>"
      ]
     },
     "execution_count": 24,
     "metadata": {},
     "output_type": "execute_result"
    },
    {
     "data": {
      "image/png": "[encoded data removed]",
      "text/plain": [
       "<Figure size 432x288 with 1 Axes>"
      ]
     },
     "metadata": {
      "needs_background": "light"
     },
     "output_type": "display_data"
    }
   ],
   "source": [
    "r = np.random.exponential(size=len(data))\n",
    "bins = np.arange(0,11,.5)\n",
    "h = np.histogram(data*r, bins)\n",
    "plt.bar(h[1][:-1],h[0],width=.3,align='edge')"
   ]
  },
  {
   "cell_type": "markdown",
   "metadata": {},
   "source": [
    "## Generate 1000 numbers under the exponential distribution and calculate goodness of fit statistic (compared to H-data) [10 marks]"
   ]
  },
  {
   "cell_type": "code",
   "execution_count": 27,
   "metadata": {},
   "outputs": [
    {
     "name": "stdout",
     "output_type": "stream",
     "text": [
      "chi_2_obt = 24793.10004235386\n",
      "chi_2 from table = 1073.6426506574246\n",
      "We reject the hypothesis that the two distributions are similar with a condifence of 95%\n"
     ]
    }
   ],
   "source": [
    "random = np.random.exponential(size=1000)\n",
    "\n",
    "f_observed = random\n",
    "\n",
    "N=len(f_observed)\n",
    "f_expected = data\n",
    "\n",
    "chi_2_obt = np.sum(((f_expected - f_observed)**2.0)/f_expected)\n",
    "print('chi_2_obt =',chi_2_obt)\n",
    "\n",
    "chi_2=stats.chi2.ppf(q=1.0-.05,df=N-1)\n",
    "print('chi_2 from table =', chi_2)\n",
    "\n",
    "if chi_2_obt>chi_2:\n",
    "    print(\"We reject the hypothesis that the two distributions are similar with a condifence of 95%\")\n",
    "else:\n",
    "    print(\"We assume the two distributions are similar with a confidence of 95%\")\n"
   ]
  },
  {
   "cell_type": "markdown",
   "metadata": {},
   "source": [
    "## Generate another set of 1000 numbers using accept-reject under H_data graph, and calculate goodness of fit statistic (compared to H-data) [10 marks]"
   ]
  },
  {
   "cell_type": "code",
   "execution_count": 31,
   "metadata": {},
   "outputs": [
    {
     "name": "stdout",
     "output_type": "stream",
     "text": [
      "503 numbers have been accepted\n",
      "497 numbers have been rejected\n"
     ]
    }
   ],
   "source": [
    "j = 0\n",
    "k = 0\n",
    "random_data = np.random.exponential(size=1000)\n",
    "for i in range(len(data)):\n",
    "    if random_data[i]<data[i]:\n",
    "        j = j + 1\n",
    "    else:\n",
    "        k = k + 1\n",
    "\n",
    "print(j,\"numbers have been accepted\")\n",
    "print(k,\"numbers have been rejected\")\n",
    "\n"
   ]
  },
  {
   "cell_type": "markdown",
   "metadata": {},
   "source": [
    "## In your application, accuracy is more important than speed of computation. Which generator is the most suitable, and why? [10 marks]"
   ]
  },
  {
   "cell_type": "code",
   "execution_count": 34,
   "metadata": {},
   "outputs": [
    {
     "name": "stdout",
     "output_type": "stream",
     "text": [
      "chi_2_obt = 10250.715054267439\n",
      "chi_2 from table = 1073.6426506574246\n",
      "we reject the hypothesis that the two distributions are similar with a condifence of 95%\n",
      "0.0017128639997281425 sec\n",
      "497 numbers have been accepted\n",
      "503 numbers have been rejected\n",
      "0.0015101049998520466\n"
     ]
    },
    {
     "name": "stderr",
     "output_type": "stream",
     "text": [
      "C:\\Users\\matth\\Anaconda3\\lib\\site-packages\\ipykernel_launcher.py:2: DeprecationWarning: time.clock has been deprecated in Python 3.3 and will be removed from Python 3.8: use time.perf_counter or time.process_time instead\n",
      "  \n",
      "C:\\Users\\matth\\Anaconda3\\lib\\site-packages\\ipykernel_launcher.py:22: DeprecationWarning: time.clock has been deprecated in Python 3.3 and will be removed from Python 3.8: use time.perf_counter or time.process_time instead\n",
      "C:\\Users\\matth\\Anaconda3\\lib\\site-packages\\ipykernel_launcher.py:28: DeprecationWarning: time.clock has been deprecated in Python 3.3 and will be removed from Python 3.8: use time.perf_counter or time.process_time instead\n",
      "C:\\Users\\matth\\Anaconda3\\lib\\site-packages\\ipykernel_launcher.py:42: DeprecationWarning: time.clock has been deprecated in Python 3.3 and will be removed from Python 3.8: use time.perf_counter or time.process_time instead\n"
     ]
    },
    {
     "data": {
      "text/plain": [
       "(None, 'sec')"
      ]
     },
     "execution_count": 34,
     "metadata": {},
     "output_type": "execute_result"
    }
   ],
   "source": [
    "# exponential distribution\n",
    "start = time.clock()\n",
    "\n",
    "random = np.random.exponential(size=1000)\n",
    "\n",
    "f_observed = random\n",
    "\n",
    "N=len(f_observed)\n",
    "f_expected = data\n",
    "\n",
    "chi_2_obt = np.sum(((f_expected - f_observed)**2.0)/f_expected)\n",
    "print('chi_2_obt =',chi_2_obt)\n",
    "\n",
    "chi_2=stats.chi2.ppf(q=1.0-.05,df=N-1)\n",
    "print('chi_2 from table =', chi_2)\n",
    "\n",
    "if chi_2_obt>chi_2:\n",
    "    print(\"we reject the hypothesis that the two distributions are similar with a condifence of 95%\")\n",
    "else:\n",
    "    print(\"We assume the two distributions are similar with a confidence of 95%\")\n",
    "\n",
    "end = time.clock()\n",
    "print((end-start), 'sec')\n",
    "\n",
    "\n",
    "# accept-reject method\n",
    "\n",
    "start = time.clock()\n",
    "\n",
    "j = 0\n",
    "k = 0\n",
    "random_data = np.random.exponential(size=1000)\n",
    "for i in range(len(data)):\n",
    "    if random_data[i]<data[i]:\n",
    "        j = j + 1\n",
    "    else:\n",
    "        k = k + 1\n",
    "        \n",
    "print(j,\"numbers have been accepted\")\n",
    "print(k,\"numbers have been rejected\")\n",
    "\n",
    "end = time.clock()\n",
    "print (end-start), 'sec'"
   ]
  },
  {
   "cell_type": "code",
   "execution_count": null,
   "metadata": {
    "collapsed": true
   },
   "outputs": [],
   "source": [
    "The faster method is the accept-reject method. "
   ]
  }
 ],
 "metadata": {
  "kernelspec": {
   "display_name": "Python 3",
   "language": "python",
   "name": "python3"
  },
  "language_info": {
   "codemirror_mode": {
    "name": "ipython",
    "version": 3
   },
   "file_extension": ".py",
   "mimetype": "text/x-python",
   "name": "python",
   "nbconvert_exporter": "python",
   "pygments_lexer": "ipython3",
   "version": "3.7.1"
  }
 },
 "nbformat": 4,
 "nbformat_minor": 1
}
