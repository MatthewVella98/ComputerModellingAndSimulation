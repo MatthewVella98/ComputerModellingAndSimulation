{
 "cells": [
  {
   "cell_type": "markdown",
   "metadata": {},
   "source": [
    "# Next-Event Simulation Assignment\n",
    "### Year 2018-2019  - Semester II\n",
    "### CCE3501 / CCE3502\n",
    "#### Developed by - Adrian Muscat, 2019\n",
    "---"
   ]
  },
  {
   "cell_type": "markdown",
   "metadata": {},
   "source": [
    "Matthew Vella, 0428698M , BSc CS, Yr II\n",
    "\n"
   ]
  },
  {
   "cell_type": "markdown",
   "metadata": {},
   "source": [
    "\n",
    "In this assignment you will be implementing next-event simulations for systems involving queues and service nodes in resource allocation systems.\n",
    "\n",
    "\n",
    "#### Tasks and Questions  (repeated below at the appropriate position)\n",
    "1. You are given a ready-coded single server queuing system simulation. Go through the code and note the event service routines, timing routine, iat and st generators, etc.\n",
    "2. Develop a function to plot the queue length versus time \n",
    "3. Develop functions to calculate the average queue length, average interarrival rate and server utilisation. \n",
    "4. Compare the answers in 3 to the M/M/1 analytical model\n",
    "5. modify the event routines (re-write new ones) to model a resource allocation system without queuing, i.e if a customer calls and the server is busy, the customer is blocked.\n",
    "6. Plot the blocking rate versus number of servers (N=1, 2, 3 .... 20)\n",
    "7. Add a buffer of finite size to the resource allocation system, such that when a customer calls and the server is busy, the customer is queued.\n",
    "8. Plot the blocking rate versus buffer size.\n",
    "\n",
    "\n"
   ]
  },
  {
   "cell_type": "raw",
   "metadata": {},
   "source": []
  },
  {
   "cell_type": "code",
   "execution_count": 16,
   "metadata": {},
   "outputs": [],
   "source": [
    "import random, math\n",
    "import numpy as np\n",
    "import matplotlib.pyplot as plt\n",
    "# import scipy.stats as stats"
   ]
  },
  {
   "cell_type": "code",
   "execution_count": 17,
   "metadata": {},
   "outputs": [],
   "source": [
    "# this line plots graphs in line\n",
    "%matplotlib inline"
   ]
  },
  {
   "cell_type": "markdown",
   "metadata": {},
   "source": [
    "## 1. Below is a ready-coded single server queuing system simulation. Go through the code and note the event service routines, timing routine, iat and st generators, etc.\n"
   ]
  },
  {
   "cell_type": "code",
   "execution_count": 18,
   "metadata": {},
   "outputs": [],
   "source": [
    "fileOutA=True   # Flag, if true output to file\n",
    "stateList=[]    # List containing [q(t), s(t), time]\n",
    "servTimeList=[]\n",
    "eventList=[]    # Event calendar list\n",
    "notice=[]       # notice = [ notice number, time, type ]\n",
    "                # type = 0, arrival\n",
    "                # type = 1, begin service\n",
    "                # type = 2, end service\n",
    "now = 0.0       # Simulation time\n",
    "Q = 0           # Queue Length, Q=0 when empty\n",
    "S=0             # Server State 0=idle, 1=busy\n",
    "EN=0            # Event Notice Number\n",
    "avgintarrtimeList = [] #list for accumulating interarrival time"
   ]
  },
  {
   "cell_type": "code",
   "execution_count": 19,
   "metadata": {},
   "outputs": [],
   "source": [
    "def ScheduleEventNotice(notice):\n",
    "    global eventList\n",
    "    if len(eventList)==0:\n",
    "        eventList.append(notice)\n",
    "    elif len(eventList)==1:\n",
    "        if eventList[0][1] <= notice[1]:\n",
    "            eventList.append(notice)\n",
    "        else:\n",
    "            eventList.insert(0,notice)\n",
    "    elif eventList[len(eventList)-1][1] < notice[1]:\n",
    "        eventList.append(notice)\n",
    "    else:\n",
    "        i=0\n",
    "        while (eventList[i][1]<=notice[1] and i<(len(eventList)-1)):\n",
    "            i += 1\n",
    "        eventList.insert(i,notice)"
   ]
  },
  {
   "cell_type": "code",
   "execution_count": 20,
   "metadata": {},
   "outputs": [],
   "source": [
    "def DisplayEventList(header):\n",
    "    print (header)\n",
    "    i=0\n",
    "    while i<len(eventList):\n",
    "        print (eventList[i])\n",
    "        i += 1\n",
    "\n",
    "def writeToFile():\n",
    "    #print 'Q = ',Q, '   S = ',S, '   now = ', now\n",
    "    stateEntry = [Q, S, now]\n",
    "    stateList.append(stateEntry)\n",
    "\n",
    "def DisplayStateList(header):\n",
    "    print (header)\n",
    "    i=0\n",
    "    while i<len(stateList):\n",
    "        print (stateList[i])\n",
    "        i += 1"
   ]
  },
  {
   "cell_type": "code",
   "execution_count": 21,
   "metadata": {},
   "outputs": [],
   "source": [
    "def InterArrivalTime():\n",
    "    #return -10*math.log(random.random())\n",
    "    return np.random.exponential()*8.001\n",
    "\n",
    "\n",
    "def ServiceTime():\n",
    "    #return -8*math.log(random.random())\n",
    "    return np.random.exponential()*8"
   ]
  },
  {
   "cell_type": "code",
   "execution_count": 22,
   "metadata": {},
   "outputs": [],
   "source": [
    "def EventRoutineArrival():\n",
    "    global EN, Q, S\n",
    "    EN=EN+1\n",
    "    intarrivaltime = InterArrivalTime()\n",
    "    avgintarrtimeList.append(intarrivaltime)\n",
    "    eventTime = now+intarrivaltime\n",
    "    #notice=[EN+1, now+InterArrivalTime(), 0]\n",
    "    notice=[EN, eventTime, 0]\n",
    "    ScheduleEventNotice(notice)\n",
    "    Q = Q + 1\n",
    "    if S==0:\n",
    "        EN+=1\n",
    "        notice=[EN, now, 1]\n",
    "        ScheduleEventNotice(notice)\n",
    "    if fileOutA: writeToFile()        "
   ]
  },
  {
   "cell_type": "code",
   "execution_count": 23,
   "metadata": {},
   "outputs": [],
   "source": [
    "def EventRoutineBeginService():\n",
    "    global EN, Q, S\n",
    "    Q = Q - 1  \n",
    "    S = 1\n",
    "    EN+=1\n",
    "    sT = ServiceTime()\n",
    "    servTimeList.append(sT)\n",
    "    eventTime = now+sT\n",
    "    notice=[EN, eventTime, 2]\n",
    "    ScheduleEventNotice(notice)\n",
    "    if fileOutA: writeToFile()"
   ]
  },
  {
   "cell_type": "code",
   "execution_count": 24,
   "metadata": {},
   "outputs": [],
   "source": [
    "def EventRoutineEndService():\n",
    "    global EN, Q, S\n",
    "    S=0\n",
    "    if Q>0:\n",
    "        EN=EN+1\n",
    "        eventTime = now\n",
    "        notice = [EN, eventTime, 1]\n",
    "        ScheduleEventNotice(notice)\n",
    "    if fileOutA: writeToFile()"
   ]
  },
  {
   "cell_type": "code",
   "execution_count": 25,
   "metadata": {},
   "outputs": [
    {
     "name": "stdout",
     "output_type": "stream",
     "text": [
      "Start of Simulation run\n",
      "End of Simulation run\n"
     ]
    }
   ],
   "source": [
    "# Schedule arrival event at time NOW;\n",
    "notice=[EN, now, 0]\n",
    "ScheduleEventNotice(notice)\n",
    "\n",
    "print ('Start of Simulation run')\n",
    "\n",
    "while (eventList!=[] and now<2000): #200000\n",
    "    now = eventList[0][1]\n",
    "    #print now,'   ',eventList[0]\n",
    "    #print 'Q = ',Q, '   S = ',S\n",
    "    #DisplayEventList('Hello')\n",
    "    if eventList[0][2]==0:\n",
    "        EventRoutineArrival()\n",
    "    elif eventList[0][2]==1:\n",
    "        EventRoutineBeginService()\n",
    "    elif eventList[0][2]==2:\n",
    "        EventRoutineEndService()\n",
    "    else:\n",
    "        print ('Unknown event type')\n",
    "    #Remove first notice\n",
    "    eventList.pop(0)\n",
    "\n",
    "print ('End of Simulation run')"
   ]
  },
  {
   "cell_type": "markdown",
   "metadata": {},
   "source": [
    "# GRADED QUESTIONS BELOW: 7 questions, Total = 70, weight =15%"
   ]
  },
  {
   "cell_type": "markdown",
   "metadata": {},
   "source": [
    "## 2. Develop a function to plot the queue length versus time  [5 marks]\n"
   ]
  },
  {
   "cell_type": "code",
   "execution_count": 26,
   "metadata": {},
   "outputs": [
    {
     "data": {
      "image/png": "[encoded data removed]",
      "text/plain": [
       "<Figure size 432x288 with 1 Axes>"
      ]
     },
     "metadata": {
      "needs_background": "light"
     },
     "output_type": "display_data"
    }
   ],
   "source": [
    "x = np.array(stateList)\n",
    "plt.bar(x[:,2],x[:,0], width=10,align='center')\n",
    "plt.show()"
   ]
  },
  {
   "cell_type": "code",
   "execution_count": null,
   "metadata": {},
   "outputs": [],
   "source": []
  },
  {
   "cell_type": "markdown",
   "metadata": {},
   "source": [
    "## 3. Develop functions to calculate the average queue length, average interarrival rate, server utilisation and mean waiting time. [10 marks]\n"
   ]
  },
  {
   "cell_type": "code",
   "execution_count": 39,
   "metadata": {},
   "outputs": [],
   "source": [
    "def avgQlength():\n",
    "    x = np.array(stateList)\n",
    "    extracted = x[:,0]\n",
    "    b = sum(extracted)\n",
    "    avgQueueLength = b/len(extracted)\n",
    "    return avgQueueLength  \n",
    "\n",
    "def avgservice():\n",
    "    sum = 0\n",
    "    for i in range(1000):\n",
    "        x = ServiceTime()\n",
    "        sum += x\n",
    "        \n",
    "    avgservicerate = sum/1000\n",
    "    return avgservicerate\n",
    "\n",
    "def avgIrate():\n",
    "    sum = 0\n",
    "    for i in range(1000):\n",
    "        x = InterArrivalTime()\n",
    "        sum += x \n",
    "        \n",
    "    avgArrivalRate = sum/1000\n",
    "    return avgArrivalRate\n",
    "\n",
    "def serverUtil(a,b):\n",
    "    #ρ = lambda/mu   = row = 1/mean rate of arrival / 1/mean service rate \n",
    "    x = (1/a) / (1/b)\n",
    "    print(x)\n",
    "    \n",
    "def meanWaitingT():\n",
    "    x = np.array(stateList)\n",
    "    extracted = x[:,2]\n",
    "    b = sum(extracted)\n",
    "    answer = b/len(extracted)\n",
    "    print(answer)\n",
    "\n",
    "    \n",
    "avgservice = avgservice()  "
   ]
  },
  {
   "cell_type": "code",
   "execution_count": 40,
   "metadata": {},
   "outputs": [
    {
     "name": "stdout",
     "output_type": "stream",
     "text": [
      "9.789877300613497\n"
     ]
    }
   ],
   "source": [
    "#Question 1 \n",
    "print(avgQLen)"
   ]
  },
  {
   "cell_type": "code",
   "execution_count": 41,
   "metadata": {},
   "outputs": [
    {
     "name": "stdout",
     "output_type": "stream",
     "text": [
      "8.005255367886113\n"
     ]
    }
   ],
   "source": [
    "#Question 2\n",
    "print(avgArrivalRate)"
   ]
  },
  {
   "cell_type": "code",
   "execution_count": 42,
   "metadata": {},
   "outputs": [
    {
     "name": "stdout",
     "output_type": "stream",
     "text": [
      "0.9926755393901777\n"
     ]
    }
   ],
   "source": [
    "#Question 3 \n",
    "serverUtil(avgArrivalRate,avgservice)"
   ]
  },
  {
   "cell_type": "code",
   "execution_count": 43,
   "metadata": {},
   "outputs": [
    {
     "name": "stdout",
     "output_type": "stream",
     "text": [
      "1004.2780049277006\n"
     ]
    }
   ],
   "source": [
    "#Question4 \n",
    "meanWaitingT()"
   ]
  },
  {
   "cell_type": "markdown",
   "metadata": {},
   "source": [
    "## 4. Compare the answers in 3 to the M/M/1 analytical model [5 marks]"
   ]
  },
  {
   "cell_type": "code",
   "execution_count": 44,
   "metadata": {},
   "outputs": [],
   "source": [
    "#M/M/1:\n",
    "#L = p^2/1-p \n",
    "#L = mean no of customers\n",
    "#ρ = server utilization = (1/mean rate of arrivals)/(1/mean service rate) \n",
    "# lambda = 1/interarrival time\n",
    "# mu = 1/servicetime\n",
    "    \n",
    "    \n",
    "def avgQlength():\n",
    "    x = np.array(stateList)\n",
    "    extracted = x[:,0]\n",
    "    b = sum(extracted)\n",
    "    avgQueueLength = b/len(extracted)\n",
    "    return avgQueueLength  \n",
    "\n",
    "def avgIrate():\n",
    "    sum = 0\n",
    "    for i in range(1000):\n",
    "        x = InterArrivalTime()\n",
    "        sum += x \n",
    "        \n",
    "    avgArrivalRate = sum/1000\n",
    "    return avgArrivalRate\n",
    "\n",
    "def avgservice():\n",
    "    sum = 0\n",
    "    for i in range(1000):\n",
    "        x = ServiceTime()\n",
    "        sum += x\n",
    "        \n",
    "    avgservicerate = sum/1000\n",
    "    return avgservicerate\n",
    "\n",
    "def serverUtil(a,b):\n",
    "    #ρ = lambda/mu   = row = 1/mean rate of arrival / 1/mean service rate \n",
    "    x = (1/a) / (1/b)\n",
    "    return x\n",
    "\n",
    "\n",
    "def meanWaitingT():\n",
    "    x = np.array(stateList)\n",
    "    extracted = x[:,2]\n",
    "    b = sum(extracted)\n",
    "    answer = b/len(extracted)\n",
    "    return (answer)\n",
    "\n",
    "\n",
    "#M/M/1 model to compare with average queue length\n",
    "def MM1meancustomers(b):\n",
    "    x = (b**2)/(1-b)\n",
    "    return x\n",
    "\n",
    "#M/M/1 model to compare with average waiting time, wait in queue = mean no of customers/lambda\n",
    "def MM1meanwaiting(a,b):\n",
    "    c = 1/b\n",
    "    x = a/c\n",
    "    return x\n",
    "\n",
    "avgservice = avgservice()  \n",
    "avgArrivalRate = avgIrate()\n",
    "A = serverUtil(avgArrivalRate,avgservice)    \n",
    "avgQLen = avgQlength()  \n",
    "meanwaitrate = meanWaitingT()\n",
    "\n",
    "B = MM1meancustomers(A)\n",
    "C = MM1meanwaiting(B,avgArrivalRate)"
   ]
  },
  {
   "cell_type": "raw",
   "metadata": {},
   "source": []
  },
  {
   "cell_type": "code",
   "execution_count": 47,
   "metadata": {},
   "outputs": [
    {
     "name": "stdout",
     "output_type": "stream",
     "text": [
      "20.4117639572627\n"
     ]
    }
   ],
   "source": [
    "print(B)"
   ]
  },
  {
   "cell_type": "code",
   "execution_count": 48,
   "metadata": {},
   "outputs": [
    {
     "name": "stdout",
     "output_type": "stream",
     "text": [
      "166.37656658931732\n"
     ]
    }
   ],
   "source": [
    "print(C)"
   ]
  },
  {
   "cell_type": "markdown",
   "metadata": {},
   "source": [
    "## 5. Modify the appropriate functions (re-write new ones) to model a resource allocation system (with N servers) without queuing, i.e if a customer calls and all servers are busy, the customer is blocked. Set mean iat = 5, mean service rate =170 and N=8. Run the simulation and compute the blocking rate. [10 marks]\n"
   ]
  },
  {
   "cell_type": "code",
   "execution_count": 19,
   "metadata": {},
   "outputs": [],
   "source": [
    "blockedCustomers = 0\n",
    "\n",
    "endedCustomers = 0"
   ]
  },
  {
   "cell_type": "code",
   "execution_count": 20,
   "metadata": {},
   "outputs": [],
   "source": [
    "fileOutA=True   # Flag, if true output to file\n",
    "stateList=[]    # List containing [q(t), s(t), time]\n",
    "servTimeList=[]\n",
    "eventList=[]    # Event calendar list\n",
    "notice=[]       # notice = [ notice number, time, type ]\n",
    "                # type = 0, arrival\n",
    "                # type = 1, begin service\n",
    "                # type = 2, end service\n",
    "now = 0.0       # Simulation time\n",
    "#Q = 0           # Queue Length, Q=0 when empty\n",
    "S=0             # No of Servers occupied\n",
    "EN=0            # Event Notice Number\n",
    "avgintarrtimeList = [] #list for accumulating interarrival time\n",
    "n=0             #no of servers"
   ]
  },
  {
   "cell_type": "code",
   "execution_count": 21,
   "metadata": {},
   "outputs": [],
   "source": [
    "def ScheduleEventNotice(notice):\n",
    "    global eventList\n",
    "    if len(eventList)==0:\n",
    "        eventList.append(notice)\n",
    "    elif len(eventList)==1:\n",
    "        if eventList[0][1] <= notice[1]:\n",
    "            eventList.append(notice)\n",
    "        else:\n",
    "            eventList.insert(0,notice)\n",
    "    elif eventList[len(eventList)-1][1] < notice[1]:\n",
    "        eventList.append(notice)\n",
    "    else:\n",
    "        i=0\n",
    "        while (eventList[i][1]<=notice[1] and i<(len(eventList)-1)):\n",
    "            i += 1\n",
    "        eventList.insert(i,notice)"
   ]
  },
  {
   "cell_type": "code",
   "execution_count": 22,
   "metadata": {},
   "outputs": [],
   "source": [
    "def DisplayEventList(header):\n",
    "    print (header)\n",
    "    i=0\n",
    "    while i<len(eventList):\n",
    "        print (eventList[i])\n",
    "        i += 1\n",
    "\n",
    "def writeToFile():\n",
    "    #print 'Q = ',Q, '   S = ',S, '   now = ', now\n",
    "    stateEntry = [Q, S, now]\n",
    "    stateList.append(stateEntry)\n",
    "\n",
    "def DisplayStateList(header):\n",
    "    print (header)\n",
    "    i=0\n",
    "    while i<len(stateList):\n",
    "        print (stateList[i])\n",
    "        i += 1"
   ]
  },
  {
   "cell_type": "code",
   "execution_count": 23,
   "metadata": {},
   "outputs": [],
   "source": [
    "def InterArrivalTime():\n",
    "    #return -10*math.log(random.random())\n",
    "    return np.random.exponential()*5\n",
    "\n",
    "\n",
    "def ServiceTime():\n",
    "    #return -8*math.log(random.random())\n",
    "    return np.random.exponential()*170"
   ]
  },
  {
   "cell_type": "code",
   "execution_count": 24,
   "metadata": {},
   "outputs": [],
   "source": [
    "def EventRoutineArrival(n):\n",
    "    global EN, Q, S, blockedCustomers\n",
    "    EN=EN+1\n",
    "    intarrivaltime = InterArrivalTime()\n",
    "    avgintarrtimeList.append(intarrivaltime)\n",
    "    eventTime = now+intarrivaltime\n",
    "    #notice=[EN+1, now+InterArrivalTime(), 0]\n",
    "    notice=[EN, eventTime, 0]\n",
    "    ScheduleEventNotice(notice)\n",
    "    Q = Q + 1\n",
    "    if (S >= n):\n",
    "        blockedCustomers+=1\n",
    "    else:\n",
    "        notice=[EN, now, 1]\n",
    "        ScheduleEventNotice(notice)\n",
    "    if fileOutA: writeToFile() \n",
    "    "
   ]
  },
  {
   "cell_type": "code",
   "execution_count": 25,
   "metadata": {},
   "outputs": [],
   "source": [
    "def EventRoutineBeginService():\n",
    "    global EN, Q, S\n",
    "    S += 1\n",
    "    EN+=1\n",
    "    sT = ServiceTime()\n",
    "    servTimeList.append(sT)\n",
    "    eventTime = now+sT\n",
    "    notice=[EN, eventTime, 2]\n",
    "    ScheduleEventNotice(notice)\n",
    "    if fileOutA: writeToFile()"
   ]
  },
  {
   "cell_type": "code",
   "execution_count": 26,
   "metadata": {},
   "outputs": [],
   "source": [
    "def EventRoutineEndService():\n",
    "    global EN, Q, S, endedCustomers\n",
    "    endedCustomers += 1\n",
    "    S-=1\n",
    "    if fileOutA: writeToFile()"
   ]
  },
  {
   "cell_type": "code",
   "execution_count": 27,
   "metadata": {},
   "outputs": [
    {
     "name": "stdout",
     "output_type": "stream",
     "text": [
      "Start of Simulation run\n",
      "End of Simulation run\n",
      "Blocking rate is 27/33\n"
     ]
    }
   ],
   "source": [
    "# Schedule arrival event at time NOW;\n",
    "n = 8\n",
    "notice=[EN, now, 0]\n",
    "ScheduleEventNotice(notice)\n",
    "\n",
    "print ('Start of Simulation run')\n",
    "\n",
    "while (eventList!=[] and now<200): #200000\n",
    "    now = eventList[0][1]\n",
    "    #print now,'   ',eventList[0]\n",
    "    #print 'Q = ',Q, '   S = ',S\n",
    "    #DisplayEventList('Hello')\n",
    "    if eventList[0][2]==0:\n",
    "        EventRoutineArrival(n)\n",
    "    elif eventList[0][2]==1:\n",
    "        EventRoutineBeginService()\n",
    "    elif eventList[0][2]==2:\n",
    "        EventRoutineEndService()\n",
    "    else:\n",
    "        print ('Unknown event type')\n",
    "    #Remove first notice\n",
    "    eventList.pop(0)\n",
    "\n",
    "print ('End of Simulation run')\n",
    "print ('Blocking rate is {b}/{e}'.format(b=blockedCustomers,e = endedCustomers+blockedCustomers))"
   ]
  },
  {
   "cell_type": "code",
   "execution_count": 28,
   "metadata": {},
   "outputs": [
    {
     "name": "stdout",
     "output_type": "stream",
     "text": [
      "(61,) (61,) (61,)\n"
     ]
    },
    {
     "data": {
      "image/png": "[encoded data removed]",
      "text/plain": [
       "<Figure size 432x288 with 1 Axes>"
      ]
     },
     "metadata": {
      "needs_background": "light"
     },
     "output_type": "display_data"
    },
    {
     "name": "stdout",
     "output_type": "stream",
     "text": [
      "Average queue length is equal to : 27.9015406285575\n",
      "Average interarrival time: 5.007706514138418\n"
     ]
    }
   ],
   "source": [
    "b = np.asarray(stateList)\n",
    "x1=b[:,2]\n",
    "y1=b[:,0]\n",
    "y12=b[:,1]\n",
    "#n=8\n",
    "print(np.shape(x1),np.shape(y1),np.shape(y12))\n",
    "#PlotQueueLengthVSTime(x1,y1)\n",
    "AvgQueueLen(x1,y1)\n",
    "AvgIntArrivalTime(x1,y1)\n"
   ]
  },
  {
   "cell_type": "code",
   "execution_count": 29,
   "metadata": {},
   "outputs": [
    {
     "data": {
      "image/png": "[encoded data removed]",
      "text/plain": [
       "<Figure size 432x288 with 1 Axes>"
      ]
     },
     "metadata": {
      "needs_background": "light"
     },
     "output_type": "display_data"
    },
    {
     "name": "stdout",
     "output_type": "stream",
     "text": [
      "1395.3963946411761\n",
      "201.84930481368062\n",
      "Server util is equal to : 0.8641325244649797\n"
     ]
    }
   ],
   "source": [
    "ServerUtil(x1,y12,8)"
   ]
  },
  {
   "cell_type": "code",
   "execution_count": null,
   "metadata": {},
   "outputs": [],
   "source": []
  },
  {
   "cell_type": "markdown",
   "metadata": {},
   "source": [
    "## 6. Plot the blocking rate versus number of servers (N=1, 2, 3 .... 50) [10 marks]"
   ]
  },
  {
   "cell_type": "code",
   "execution_count": 30,
   "metadata": {},
   "outputs": [
    {
     "data": {
      "text/plain": [
       "[<matplotlib.lines.Line2D at 0x27ae14b82e8>]"
      ]
     },
     "execution_count": 30,
     "metadata": {},
     "output_type": "execute_result"
    },
    {
     "data": {
      "image/png": "[encoded data removed]",
      "text/plain": [
       "<Figure size 432x288 with 1 Axes>"
      ]
     },
     "metadata": {
      "needs_background": "light"
     },
     "output_type": "display_data"
    }
   ],
   "source": [
    "i = 0\n",
    "blockingRate = []\n",
    "servers = []\n",
    "while (i<50):\n",
    "    fileOutA=True   # Flag, if true output to file\n",
    "    stateList=[]    # List containing [q(t), s(t), time]\n",
    "    servTimeList=[]\n",
    "    eventList=[]    # Event calendar list\n",
    "    notice=[]       # notice = [ notice number, time, type ]\n",
    "                    # type = 0, arrival\n",
    "                    # type = 1, begin service\n",
    "                    # type = 2, end service\n",
    "    now = 0.0       # Simulation time\n",
    "    #Q = 0           # Queue Length, Q=0 when empty\n",
    "    S=0             # No of Servers occupied\n",
    "    EN=0            # Event Notice Number\n",
    "    avgintarrtimeList = [] #list for accumulating interarrival time\n",
    "    n=i\n",
    "    notice=[EN, now, 0]\n",
    "    ScheduleEventNotice(notice)\n",
    "\n",
    "    #print ('Start of Simulation run')\n",
    "\n",
    "    while (eventList!=[] and now<200): #200000\n",
    "        now = eventList[0][1]\n",
    "        #print now,'   ',eventList[0]\n",
    "        #print 'Q = ',Q, '   S = ',S\n",
    "        #DisplayEventList('Hello')\n",
    "        if eventList[0][2]==0:\n",
    "            EventRoutineArrival(n)\n",
    "        elif eventList[0][2]==1:\n",
    "            EventRoutineBeginService()\n",
    "        elif eventList[0][2]==2:\n",
    "            EventRoutineEndService()\n",
    "        else:\n",
    "            print ('Unknown event type')\n",
    "        #Remove first notice\n",
    "        eventList.pop(0)\n",
    "\n",
    "    #print ('End of Simulation run')\n",
    "    #print ('Blocking rate is {b}/{e}'.format(b=blockedCustomers,e = endedCustomers+blockedCustomers))\n",
    "    blockingRate.append(blockedCustomers/(endedCustomers+blockedCustomers))\n",
    "    servers.append(i+1)\n",
    "    i+=1\n",
    "#print (blockingRate)\n",
    "#print (servers)\n",
    "plt.plot(servers,blockingRate)"
   ]
  },
  {
   "cell_type": "markdown",
   "metadata": {},
   "source": [
    "## 7. Add a buffer of finite size to the resource allocation system, such that when a customer calls and the server is busy, the customer is queued. [5 marks]\n"
   ]
  },
  {
   "cell_type": "code",
   "execution_count": 46,
   "metadata": {},
   "outputs": [],
   "source": [
    "fileOutA=True   # Flag, if true output to file\n",
    "stateList=[]    # List containing [q(t), s(t), time]\n",
    "servTimeList=[]\n",
    "eventList=[]    # Event calendar list\n",
    "notice=[]       # notice = [ notice number, time, type ]\n",
    "                # type = 0, arrival\n",
    "                # type = 1, begin service\n",
    "                # type = 2, end service\n",
    "now = 0.0       # Simulation time\n",
    "Q = 0           # Queue Length, Q=0 when empty\n",
    "S=0             # Server State 0=idle, 1=busy\n",
    "EN=0            # Event Notice Number\n",
    "avgintarrtimeList = [] #list for accumulating interarrival time\n",
    "buffersize = 20\n",
    "n=0             #no of servers\n",
    "enteredCustomers = 0"
   ]
  },
  {
   "cell_type": "code",
   "execution_count": 47,
   "metadata": {},
   "outputs": [],
   "source": [
    "def ScheduleEventNotice(notice):\n",
    "    global eventList\n",
    "    if len(eventList)==0:\n",
    "        eventList.append(notice)\n",
    "    elif len(eventList)==1:\n",
    "        if eventList[0][1] <= notice[1]:\n",
    "            eventList.append(notice)\n",
    "        else:\n",
    "            eventList.insert(0,notice)\n",
    "    elif eventList[len(eventList)-1][1] < notice[1]:\n",
    "        eventList.append(notice)\n",
    "    else:\n",
    "        i=0\n",
    "        while (eventList[i][1]<=notice[1] and i<(len(eventList)-1)):\n",
    "            i += 1\n",
    "        eventList.insert(i,notice)"
   ]
  },
  {
   "cell_type": "code",
   "execution_count": 48,
   "metadata": {},
   "outputs": [],
   "source": [
    "def DisplayEventList(header):\n",
    "    print (header)\n",
    "    i=0\n",
    "    while i<len(eventList):\n",
    "        print (eventList[i])\n",
    "        i += 1\n",
    "\n",
    "def writeToFile():\n",
    "    #print 'Q = ',Q, '   S = ',S, '   now = ', now\n",
    "    stateEntry = [Q, S, now]\n",
    "    stateList.append(stateEntry)\n",
    "\n",
    "def DisplayStateList(header):\n",
    "    print (header)\n",
    "    i=0\n",
    "    while i<len(stateList):\n",
    "        print (stateList[i])\n",
    "        i += 1"
   ]
  },
  {
   "cell_type": "code",
   "execution_count": 49,
   "metadata": {},
   "outputs": [],
   "source": [
    "def InterArrivalTime():\n",
    "    #return -10*math.log(random.random())\n",
    "    return np.random.exponential()*14\n",
    "\n",
    "\n",
    "def ServiceTime():\n",
    "    #return -8*math.log(random.random())\n",
    "    return np.random.exponential()*7"
   ]
  },
  {
   "cell_type": "code",
   "execution_count": 50,
   "metadata": {},
   "outputs": [],
   "source": [
    "def EventRoutineArrival(n,b):\n",
    "    global EN, Q, S, blockedCustomers, enteredCustomers#buffersize\n",
    "    EN=EN+1\n",
    "    enteredCustomers+=1\n",
    "    intarrivaltime = InterArrivalTime()\n",
    "    avgintarrtimeList.append(intarrivaltime)\n",
    "    eventTime = now+intarrivaltime\n",
    "    #notice=[EN+1, now+InterArrivalTime(), 0]\n",
    "    notice=[EN, eventTime, 0]\n",
    "    ScheduleEventNotice(notice)\n",
    "    Q = Q + 1\n",
    "    \n",
    "    if S<n and Q<=b: # if idle\n",
    "        \n",
    "        if(b > 0):\n",
    "            Q += 1\n",
    "        EN += 1\n",
    "        notice=[EN, now, 1]\n",
    "        ScheduleEventNotice(notice)\n",
    "    elif Q<b:\n",
    "        Q += 1\n",
    "    else:\n",
    "        blockedCustomers += 1\n",
    "        \n",
    "    if fileOutA: writeToFile() \n",
    "    "
   ]
  },
  {
   "cell_type": "code",
   "execution_count": 51,
   "metadata": {},
   "outputs": [],
   "source": [
    "def EventRoutineBeginService():\n",
    "    global EN, Q, S\n",
    "    Q = Q - 1\n",
    "    S += 1\n",
    "    EN+=1\n",
    "    sT = ServiceTime()\n",
    "    servTimeList.append(sT)\n",
    "    eventTime = now+sT\n",
    "    notice=[EN, eventTime, 2]\n",
    "    ScheduleEventNotice(notice)\n",
    "    if fileOutA: writeToFile()"
   ]
  },
  {
   "cell_type": "code",
   "execution_count": 52,
   "metadata": {},
   "outputs": [],
   "source": [
    "def EventRoutineEndService():\n",
    "    global EN, Q, S, endedCustomers\n",
    "    endedCustomers += 1\n",
    "    S-=1\n",
    "    if Q>0:\n",
    "        EN=EN+1\n",
    "        eventTime = now\n",
    "        notice = [EN, eventTime, 1]\n",
    "    if fileOutA: writeToFile()\n",
    "    "
   ]
  },
  {
   "cell_type": "code",
   "execution_count": 53,
   "metadata": {},
   "outputs": [
    {
     "name": "stdout",
     "output_type": "stream",
     "text": [
      "Start of Simulation run\n",
      "End of Simulation run\n"
     ]
    }
   ],
   "source": [
    "# Schedule arrival event at time NOW;\n",
    "buffersize = 8\n",
    "\n",
    "# def WithBufferSize(b):\n",
    "#     global stateList, servTimeList, eventList, notice, now, Q, S, EN, avgintarrtimeList, buffersize, n\n",
    "# #     fileOutA=True   # Flag, if true output to file\n",
    "#     stateList=[]    # List containing [q(t), s(t), time]\n",
    "#     servTimeList=[]\n",
    "#     eventList=[]    # Event calendar list\n",
    "#     notice=[]       # notice = [ notice number, time, type ]\n",
    "#                     # type = 0, arrival\n",
    "#                     # type = 1, begin service\n",
    "#                     # type = 2, end service\n",
    "#     now = 0.0       # Simulation time\n",
    "#     Q = 0           # Queue Length, Q=0 when empty\n",
    "#     S=0             # Server State 0=idle, 1=busy\n",
    "#     EN=0            # Event Notice Number\n",
    "#     avgintarrtimeList = [] #list for accumulating interarrival time\n",
    "#     buffersize = 0\n",
    "#     n=0             #no of servers\n",
    "#     enteredCustomers = 0\n",
    "#     n = 8\n",
    "\n",
    "notice=[EN, now, 0]\n",
    "ScheduleEventNotice(notice)\n",
    "\n",
    "print ('Start of Simulation run')\n",
    "\n",
    "while (eventList!=[] and now<2000): #200000\n",
    "    now = eventList[0][1]\n",
    "    #print now,'   ',eventList[0]\n",
    "    #print 'Q = ',Q, '   S = ',S\n",
    "    #DisplayEventList('Hello')\n",
    "    if eventList[0][2]==0:\n",
    "        EventRoutineArrival(n,buffersize)\n",
    "    elif eventList[0][2]==1:\n",
    "        EventRoutineBeginService()\n",
    "    elif eventList[0][2]==2:\n",
    "        EventRoutineEndService()\n",
    "    else:\n",
    "        print ('Unknown event type')\n",
    "    #Remove first notice\n",
    "    eventList.pop(0)\n",
    "\n",
    "print ('End of Simulation run')\n",
    "\n"
   ]
  },
  {
   "cell_type": "code",
   "execution_count": 54,
   "metadata": {},
   "outputs": [],
   "source": [
    "# WithBufferSize(buffersize)"
   ]
  },
  {
   "cell_type": "code",
   "execution_count": 55,
   "metadata": {},
   "outputs": [
    {
     "name": "stdout",
     "output_type": "stream",
     "text": [
      "(152,) (152,) (152,)\n"
     ]
    },
    {
     "data": {
      "image/png": "[encoded data removed]",
      "text/plain": [
       "<Figure size 432x288 with 1 Axes>"
      ]
     },
     "metadata": {
      "needs_background": "light"
     },
     "output_type": "display_data"
    },
    {
     "name": "stdout",
     "output_type": "stream",
     "text": [
      "Average queue length is equal to : 86.62430650303934\n",
      "Average interarrival time: 13.300819866764009\n"
     ]
    },
    {
     "data": {
      "image/png": "[encoded data removed]",
      "text/plain": [
       "<Figure size 432x288 with 1 Axes>"
      ]
     },
     "metadata": {
      "needs_background": "light"
     },
     "output_type": "display_data"
    },
    {
     "name": "stdout",
     "output_type": "stream",
     "text": [
      "0.0\n",
      "2020.1782176634374\n",
      "Server util is equal to : nan\n"
     ]
    },
    {
     "name": "stderr",
     "output_type": "stream",
     "text": [
      "C:\\Users\\matth\\Anaconda3\\lib\\site-packages\\ipykernel_launcher.py:40: RuntimeWarning: invalid value encountered in double_scalars\n"
     ]
    }
   ],
   "source": [
    "c = np.asarray(stateList)\n",
    "x1=c[:,2]\n",
    "y1=c[:,0]\n",
    "y12=c[:,1]\n",
    "#n=8\n",
    "print(np.shape(x1),np.shape(y1),np.shape(y12))\n",
    "#PlotQueueLengthVSTime(x1,y1)\n",
    "AvgQueueLen(x1,y1)\n",
    "AvgIntArrivalTime(x1,y1)\n",
    "ServerUtil(x1,y12,n)\n",
    "#print ((blockedCustomers,(enteredCustomers)))"
   ]
  },
  {
   "cell_type": "markdown",
   "metadata": {},
   "source": [
    "## 8. Plot the blocking rate versus buffer size. [5 marks]"
   ]
  },
  {
   "cell_type": "code",
   "execution_count": 41,
   "metadata": {},
   "outputs": [
    {
     "name": "stdout",
     "output_type": "stream",
     "text": [
      "Blocking rate is 20/20\n",
      "Blocking rate is 15/16\n",
      "Blocking rate is 17/19\n",
      "Blocking rate is 12/15\n",
      "Blocking rate is 10/14\n",
      "Blocking rate is 9/14\n",
      "Blocking rate is 8/14\n",
      "Blocking rate is 12/19\n",
      "Blocking rate is 7/15\n",
      "Blocking rate is 7/16\n",
      "Blocking rate is 8/18\n",
      "Blocking rate is 3/14\n",
      "Blocking rate is 7/19\n",
      "Blocking rate is 5/18\n",
      "Blocking rate is 4/18\n",
      "Blocking rate is 6/21\n",
      "Blocking rate is 5/21\n",
      "Blocking rate is 1/18\n",
      "Blocking rate is 0/18\n",
      "Blocking rate is 0/15\n",
      "Blocking rate is 0/14\n",
      "Blocking rate is 0/16\n",
      "Blocking rate is 0/15\n",
      "Blocking rate is 0/11\n",
      "Blocking rate is 0/15\n",
      "Blocking rate is 0/11\n",
      "Blocking rate is 0/14\n",
      "Blocking rate is 0/14\n",
      "Blocking rate is 0/17\n",
      "Blocking rate is 0/21\n",
      "Blocking rate is 0/14\n",
      "Blocking rate is 0/26\n",
      "Blocking rate is 0/8\n",
      "Blocking rate is 0/13\n",
      "Blocking rate is 0/15\n",
      "Blocking rate is 0/18\n",
      "Blocking rate is 0/18\n",
      "Blocking rate is 0/15\n",
      "Blocking rate is 0/22\n",
      "Blocking rate is 0/16\n",
      "Blocking rate is 0/11\n",
      "Blocking rate is 0/14\n",
      "Blocking rate is 0/19\n",
      "Blocking rate is 0/15\n",
      "Blocking rate is 0/10\n",
      "Blocking rate is 0/15\n",
      "Blocking rate is 0/14\n",
      "Blocking rate is 0/10\n",
      "Blocking rate is 0/18\n",
      "Average interarrival time: 15.565527510891176\n"
     ]
    },
    {
     "data": {
      "image/png": "[encoded data removed]",
      "text/plain": [
       "<Figure size 432x288 with 1 Axes>"
      ]
     },
     "metadata": {
      "needs_background": "light"
     },
     "output_type": "display_data"
    },
    {
     "name": "stdout",
     "output_type": "stream",
     "text": [
      "Average queue length is equal to : 11.06174509413068\n"
     ]
    },
    {
     "data": {
      "text/plain": [
       "[<matplotlib.lines.Line2D at 0x27ae17d87b8>]"
      ]
     },
     "execution_count": 41,
     "metadata": {},
     "output_type": "execute_result"
    },
    {
     "data": {
      "image/png": "[encoded data removed]",
      "text/plain": [
       "<Figure size 432x288 with 1 Axes>"
      ]
     },
     "metadata": {
      "needs_background": "light"
     },
     "output_type": "display_data"
    }
   ],
   "source": [
    "i = 1\n",
    "n=8\n",
    "buffersize = 0\n",
    "#blockedCustomers = 0\n",
    "\n",
    "blockingRate = []\n",
    "buffersizePerRun = []\n",
    "\n",
    "while (i<50):\n",
    "    fileOutA=True   # Flag, if true output to file\n",
    "    stateList=[]    # List containing [q(t), s(t), time]\n",
    "    servTimeList=[]\n",
    "    eventList=[]    # Event calendar list\n",
    "    notice=[]       # notice = [ notice number, time, type ]\n",
    "                    # type = 0, arrival\n",
    "                    # type = 1, begin service\n",
    "                    # type = 2, end service\n",
    "    now = 0.0       # Simulation time\n",
    "    Q = 0           # Queue Length, Q=0 when empty\n",
    "    S=0             # No of Servers occupied\n",
    "    EN=0            # Event Notice Number\n",
    "    avgintarrtimeList = [] #list for accumulating interarrival time\n",
    "    blockedCustomers = 0\n",
    "    enteredCustomers = 0\n",
    "    notice=[EN, now, 0]\n",
    "    ScheduleEventNotice(notice)\n",
    "    #print ('Start of Simulation run')\n",
    "\n",
    "    while (eventList!=[] and now<200): #200000\n",
    "        now = eventList[0][1]\n",
    "        #print now,'   ',eventList[0]\n",
    "        #print 'Q = ',Q, '   S = ',S\n",
    "        #DisplayEventList('Hello')\n",
    "        if eventList[0][2]==0:\n",
    "            EventRoutineArrival(n,buffersize)\n",
    "        elif eventList[0][2]==1:\n",
    "            EventRoutineBeginService()\n",
    "        elif eventList[0][2]==2:\n",
    "            EventRoutineEndService()\n",
    "        else:\n",
    "            print ('Unknown event type')\n",
    "        #Remove first notice\n",
    "        eventList.pop(0)\n",
    "\n",
    "    #print ('End of Simulation run')\n",
    "    print ('Blocking rate is {b}/{e}'.format(b=blockedCustomers,e = enteredCustomers))\n",
    "    blockingRate.append((blockedCustomers/(enteredCustomers)))\n",
    "    buffersizePerRun.append(i+1)\n",
    "    i+=1\n",
    "    buffersize+=1\n",
    "d = np.asarray(stateList)\n",
    "x1=d[:,2]\n",
    "y1=d[:,0]\n",
    "y12=d[:,1]\n",
    "AvgIntArrivalTime(x1,y1)\n",
    "AvgQueueLen(x1,y1)\n",
    "#ServerUtil(x1,y12,50)\n",
    "# print (blockingRate)\n",
    "# print (servers)\n",
    "plt.plot(buffersizePerRun,blockingRate)"
   ]
  },
  {
   "cell_type": "code",
   "execution_count": null,
   "metadata": {},
   "outputs": [],
   "source": []
  },
  {
   "cell_type": "code",
   "execution_count": null,
   "metadata": {},
   "outputs": [],
   "source": []
  },
  {
   "cell_type": "code",
   "execution_count": null,
   "metadata": {},
   "outputs": [],
   "source": []
  }
 ],
 "metadata": {
  "kernelspec": {
   "display_name": "Python 3",
   "language": "python",
   "name": "python3"
  },
  "language_info": {
   "codemirror_mode": {
    "name": "ipython",
    "version": 3
   },
   "file_extension": ".py",
   "mimetype": "text/x-python",
   "name": "python",
   "nbconvert_exporter": "python",
   "pygments_lexer": "ipython3",
   "version": "3.7.1"
  }
 },
 "nbformat": 4,
 "nbformat_minor": 1
}
